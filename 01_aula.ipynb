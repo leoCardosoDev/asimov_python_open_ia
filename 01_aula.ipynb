{
 "cells": [
  {
   "cell_type": "code",
   "execution_count": 1,
   "metadata": {},
   "outputs": [],
   "source": [
    "from openai import OpenAI\n",
    "client = OpenAI()\n",
    "from dotenv import load_dotenv\n",
    "import os"
   ]
  },
  {
   "cell_type": "code",
   "execution_count": 3,
   "metadata": {},
   "outputs": [],
   "source": [
    "load_dotenv()\n",
    "client.api_base = os.getenv(\"OPENAI_API_BASE\")\n",
    "client.api_key = os.getenv(\"OPENAI_API_KEY\")\n",
    "if client.api_key is None:\n",
    "    raise ValueError(\"OPENAI_API_KEY environment variable not set.\")"
   ]
  },
  {
   "cell_type": "code",
   "execution_count": null,
   "metadata": {},
   "outputs": [
    {
     "name": "stdout",
     "output_type": "stream",
     "text": [
      "Fruta vermelha, doce e crocante.\n"
     ]
    }
   ],
   "source": [
    "mensagens = [{\"role\": \"user\", \"content\": \"O que é uma maçã em 5 palavras?\"}]\n",
    "resposta = client.chat.completions.create(\n",
    "    model='auto',\n",
    "    messages=mensagens,\n",
    "    temperature=0.4,\n",
    "    max_tokens=50,\n",
    "    n=1,\n",
    "    stop=None\n",
    ")\n"
   ]
  },
  {
   "cell_type": "code",
   "execution_count": 8,
   "metadata": {},
   "outputs": [
    {
     "name": "stdout",
     "output_type": "stream",
     "text": [
      "[{'role': 'user', 'content': 'O que é uma maçã em 5 palavras?'}, {'role': 'assistant', 'content': 'Fruta vermelha, doce e crocante.'}, {'role': 'assistant', 'content': 'Fruta vermelha, doce e crocante.'}, {'role': 'assistant', 'content': 'Fruta vermelha, doce e crocante.'}, {'role': 'assistant', 'content': 'Fruta vermelha, doce e crocante.'}]\n",
      "ChatCompletion(id='msg_01VufGkD2VZkwacY3qyMGzqU', choices=[Choice(finish_reason='stop', index=0, logprobs=None, message=ChatCompletionMessage(content='Fruta vermelha, doce e crocante.', role='assistant', function_call=None, tool_calls=None))], created=1743097114, model='claude-3-7-sonnet-20250219', object='chat.completion', system_fingerprint=None, usage=CompletionUsage(completion_tokens=17, prompt_tokens=21, total_tokens=38))\n",
      "CompletionUsage(completion_tokens=17, prompt_tokens=21, total_tokens=38)\n"
     ]
    }
   ],
   "source": [
    "mensagens.append({'role': 'assistant', 'content': resposta.choices[0].message.content})\n",
    "print(mensagens)\n",
    "print(resposta)\n",
    "print(resposta.usage)"
   ]
  }
 ],
 "metadata": {
  "kernelspec": {
   "display_name": "Python 3",
   "language": "python",
   "name": "python3"
  },
  "language_info": {
   "codemirror_mode": {
    "name": "ipython",
    "version": 3
   },
   "file_extension": ".py",
   "mimetype": "text/x-python",
   "name": "python",
   "nbconvert_exporter": "python",
   "pygments_lexer": "ipython3",
   "version": "3.12.4"
  }
 },
 "nbformat": 4,
 "nbformat_minor": 2
}
