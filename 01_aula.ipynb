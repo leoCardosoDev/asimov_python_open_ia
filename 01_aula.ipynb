{
 "cells": [
  {
   "cell_type": "code",
   "execution_count": null,
   "metadata": {},
   "outputs": [],
   "source": [
    "from openai import OpenAI\n",
    "client = OpenAI()\n",
    "from dotenv import load_dotenv\n",
    "import os"
   ]
  },
  {
   "cell_type": "code",
   "execution_count": null,
   "metadata": {},
   "outputs": [],
   "source": [
    "load_dotenv()\n",
    "client.api_base = os.getenv(\"OPENAI_API_BASE\")\n",
    "client.api_key = os.getenv(\"OPENAI_API_KEY\")\n",
    "if client.api_key is None:\n",
    "    raise ValueError(\"OPENAI_API_KEY environment variable not set.\")"
   ]
  },
  {
   "cell_type": "code",
   "execution_count": null,
   "metadata": {},
   "outputs": [],
   "source": [
    "mensagens = [{\"role\": \"user\", \"content\": \"O que é uma maçã em 5 palavras?\"}]\n",
    "resposta = client.chat.completions.create(\n",
    "    model='auto',\n",
    "    messages=mensagens,\n",
    "    temperature=0.4,\n",
    "    max_tokens=50,\n",
    "    stream=True\n",
    ")\n",
    "resposta_completa = \"\"\n",
    "for stream_resposta in resposta:\n",
    "    texto = stream_resposta.choices[0].delta.content\n",
    "    if texto:\n",
    "        resposta_completa += texto\n",
    "        print(texto, end='')\n"
   ]
  }
 ],
 "metadata": {
  "kernelspec": {
   "display_name": "Python 3",
   "language": "python",
   "name": "python3"
  },
  "language_info": {
   "codemirror_mode": {
    "name": "ipython",
    "version": 3
   },
   "file_extension": ".py",
   "mimetype": "text/x-python",
   "name": "python",
   "nbconvert_exporter": "python",
   "pygments_lexer": "ipython3",
   "version": "3.12.4"
  }
 },
 "nbformat": 4,
 "nbformat_minor": 2
}
