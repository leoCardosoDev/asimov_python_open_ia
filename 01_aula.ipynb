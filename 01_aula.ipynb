{
 "cells": [
  {
   "cell_type": "code",
   "execution_count": null,
   "metadata": {},
   "outputs": [],
   "source": [
    "from openai import OpenAI\n",
    "client = OpenAI()\n",
    "from dotenv import load_dotenv\n",
    "import os"
   ]
  },
  {
   "cell_type": "code",
   "execution_count": null,
   "metadata": {},
   "outputs": [],
   "source": [
    "load_dotenv()\n",
    "client.api_base = os.getenv(\"OPENAI_API_BASE\")\n",
    "client.api_key = os.getenv(\"OPENAI_API_KEY\")\n",
    "if client.api_key is None:\n",
    "    raise ValueError(\"OPENAI_API_KEY environment variable not set.\")"
   ]
  },
  {
   "cell_type": "code",
   "execution_count": 4,
   "metadata": {},
   "outputs": [
    {
     "name": "stdout",
     "output_type": "stream",
     "text": [
      "Fruta vermelha, doce e crocante."
     ]
    },
    {
     "ename": "IndexError",
     "evalue": "list index out of range",
     "output_type": "error",
     "traceback": [
      "\u001b[0;31m---------------------------------------------------------------------------\u001b[0m",
      "\u001b[0;31mIndexError\u001b[0m                                Traceback (most recent call last)",
      "Cell \u001b[0;32mIn[4], line 11\u001b[0m\n\u001b[1;32m      9\u001b[0m resposta_completa \u001b[38;5;241m=\u001b[39m \u001b[38;5;124m\"\u001b[39m\u001b[38;5;124m\"\u001b[39m\n\u001b[1;32m     10\u001b[0m \u001b[38;5;28;01mfor\u001b[39;00m stream_resposta \u001b[38;5;129;01min\u001b[39;00m resposta:\n\u001b[0;32m---> 11\u001b[0m     texto \u001b[38;5;241m=\u001b[39m \u001b[43mstream_resposta\u001b[49m\u001b[38;5;241;43m.\u001b[39;49m\u001b[43mchoices\u001b[49m\u001b[43m[\u001b[49m\u001b[38;5;241;43m0\u001b[39;49m\u001b[43m]\u001b[49m\u001b[38;5;241m.\u001b[39mdelta\u001b[38;5;241m.\u001b[39mcontent\n\u001b[1;32m     12\u001b[0m     \u001b[38;5;28;01mif\u001b[39;00m texto:\n\u001b[1;32m     13\u001b[0m         resposta_completa \u001b[38;5;241m+\u001b[39m\u001b[38;5;241m=\u001b[39m texto\n",
      "\u001b[0;31mIndexError\u001b[0m: list index out of range"
     ]
    }
   ],
   "source": [
    "mensagens = [{\"role\": \"user\", \"content\": \"O que é uma maçã em 5 palavras?\"}]\n",
    "resposta = client.chat.completions.create(\n",
    "    model='auto',\n",
    "    messages=mensagens,\n",
    "    temperature=0.4,\n",
    "    max_tokens=50,\n",
    "    stream=True\n",
    ")\n",
    "resposta_completa = \"\"\n",
    "for stream_resposta in resposta:\n",
    "    texto = stream_resposta.choices[0].delta.content\n",
    "    if texto:\n",
    "        resposta_completa += texto\n",
    "        print(texto, end='')\n"
   ]
  }
 ],
 "metadata": {
  "kernelspec": {
   "display_name": "Python 3",
   "language": "python",
   "name": "python3"
  },
  "language_info": {
   "codemirror_mode": {
    "name": "ipython",
    "version": 3
   },
   "file_extension": ".py",
   "mimetype": "text/x-python",
   "name": "python",
   "nbconvert_exporter": "python",
   "pygments_lexer": "ipython3",
   "version": "3.12.4"
  }
 },
 "nbformat": 4,
 "nbformat_minor": 2
}
